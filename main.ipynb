{
 "cells": [
  {
   "cell_type": "markdown",
   "metadata": {
    "id": "sidl8rN-gpnX"
   },
   "source": [
    "**Installation of SimPy\"\"\n",
    "If not available**"
   ]
  },
  {
   "cell_type": "code",
   "execution_count": 986,
   "metadata": {
    "colab": {
     "base_uri": "https://localhost:8080/",
     "height": 105
    },
    "id": "pKwPk03SfmJK",
    "outputId": "36ba5ba1-32bd-4328-851b-86bad702a048"
   },
   "outputs": [],
   "source": [
    "#%pip install simpy\n",
    "#%pip install numpy\n",
    "#%pip install matplotlib\n",
    "#%pip install roundrobin\n",
    "#pip install pandas"
   ]
  },
  {
   "cell_type": "markdown",
   "metadata": {
    "id": "sK1Rcq_Nn7JU"
   },
   "source": [
    "**Import of required modules**"
   ]
  },
  {
   "cell_type": "code",
   "execution_count": 987,
   "metadata": {
    "id": "ZOd3WZaxoF6X"
   },
   "outputs": [],
   "source": [
    "import simpy\n",
    "import numpy as np\n",
    "import numpy.random as random\n",
    "import pandas as pd"
   ]
  },
  {
   "cell_type": "markdown",
   "metadata": {
    "id": "RYQoyxyanvOF"
   },
   "source": [
    "**Parameters settings**"
   ]
  },
  {
   "cell_type": "code",
   "execution_count": 988,
   "metadata": {
    "id": "asVZg4Rhnszz"
   },
   "outputs": [],
   "source": [
    "MAXSIMTIME = 50000\n",
    "VERBOSE = False\n",
    "LAMBDA = 3.8\n",
    "MU = 8.0\n",
    "POPULATION = 50000000\n",
    "SERVICE_DISCIPLINE = ['FIFO', 'RR']\n",
    "LOGGED = True\n",
    "PLOTTED = True\n",
    "TIME_SLICE = 0.5\n",
    "qlogs = dict()"
   ]
  },
  {
   "cell_type": "code",
   "execution_count": 989,
   "metadata": {},
   "outputs": [],
   "source": [
    "if LOGGED:\n",
    "    for service in SERVICE_DISCIPLINE:\n",
    "        qlogs[service] = open(f'mm1-{service}-l{LAMBDA}-m{MU}.csv', 'w+')\n",
    "        qlogs[service].write('0\\t0\\t0\\t0\\n')"
   ]
  },
  {
   "cell_type": "code",
   "execution_count": 990,
   "metadata": {},
   "outputs": [],
   "source": [
    "def SJF( job ):\n",
    "    return job.duration"
   ]
  },
  {
   "cell_type": "code",
   "execution_count": 991,
   "metadata": {},
   "outputs": [],
   "source": [
    "class Job:\n",
    "    def __init__(self, name, arrtime, duration):\n",
    "        self.name = name\n",
    "        self.arrtime = arrtime\n",
    "        self.duration = duration\n",
    "        self.bursttime = duration\n",
    "\n",
    "    def __str__(self):\n",
    "        return '%s at %d, length %d' %(self.name, self.arrtime, self.duration)"
   ]
  },
  {
   "cell_type": "code",
   "execution_count": 992,
   "metadata": {},
   "outputs": [],
   "source": [
    "class Server:\n",
    "    def __init__(self, env, strat = 'FIFO'):\n",
    "        self.env = env\n",
    "        self.strat = strat\n",
    "        self.Jobs = list(())\n",
    "        self.serversleeping = None\n",
    "        ''' statistics '''\n",
    "        self.waitingTime = 0\n",
    "        self.turnAroundTime = 0\n",
    "        self.numberInSys = 0\n",
    "        self.idleTime = 0\n",
    "        self.jobsDone = 0\n",
    "        self.last = 0\n",
    "        ''' register a new server process '''\n",
    "        self.env.process( self.serve() )\n",
    "\n",
    "    def serve(self):\n",
    "        while True:\n",
    "            ''' do nothing, just change server to idle\n",
    "              and then yield a wait event which takes infinite time\n",
    "            '''\n",
    "            if len( self.Jobs ) == 0 :\n",
    "                self.serversleeping = self.env.process( self.waiting())\n",
    "                t1 = self.env.now\n",
    "                yield self.serversleeping\n",
    "                ''' accumulate the server idle time'''\n",
    "                self.idleTime += self.env.now - t1\n",
    "            else:\n",
    "                ''' get the first job to be served'''\n",
    "                if self.strat == 'SJF':\n",
    "                    self.Jobs.sort( key = SJF )\n",
    "                    j = self.Jobs.pop( 0 )\n",
    "                elif self.strat == 'RR':\n",
    "                    if self.Jobs[0].duration > TIME_SLICE: \n",
    "                        self.Jobs[0].duration -= TIME_SLICE\n",
    "                        j = Job(name=self.Jobs[0].name, arrtime=self.Jobs[0].arrtime, duration=TIME_SLICE)\n",
    "                        self.Jobs = np.roll(self.Jobs, -1).tolist()\n",
    "                    else:\n",
    "                        j = self.Jobs.pop(0)\n",
    "                else: # FIFO by default\n",
    "                    j = self.Jobs.pop( 0 )\n",
    "\n",
    "                nowtime = self.env.now\n",
    "                waitingtime = 0\n",
    "                turnaroundtime = 0\n",
    "                if self.strat == 'RR':\n",
    "                    if len(self.Jobs) > 0 and self.Jobs[-1].name == j.name: \n",
    "                        yield self.env.timeout( j.duration )\n",
    "                    else:\n",
    "                        turnaroundtime += (nowtime + j.duration) - j.arrtime\n",
    "                        waitingtime += turnaroundtime - j.bursttime\n",
    "                        yield self.env.timeout( j.duration )\n",
    "                        self.jobsDone += 1\n",
    "                else:\n",
    "                    ''' sum up the waiting time'''\n",
    "                    turnaroundtime += (nowtime + j.duration) - j.arrtime\n",
    "                    waitingtime += nowtime - j.arrtime\n",
    "                    ''' yield an event for the job finish'''\n",
    "                    yield self.env.timeout( j.duration )\n",
    "                    ''' sum up the jobs done '''\n",
    "                    self.jobsDone += 1\n",
    "                \n",
    "                self.numberInSys += (self.env.now - self.last) * len(self.Jobs)\n",
    "                self.last = self.env.now\n",
    "                self.waitingTime += waitingtime\n",
    "                self.turnAroundTime += turnaroundtime\n",
    "                if LOGGED:\n",
    "                    for _, qlog in qlogs.items():\n",
    "                        qlog.write(f'{nowtime:.4f}\\t{1 if len(self.Jobs) > 0 else 0}\\t{len(self.Jobs)}\\t{waitingtime}\\n')\n",
    "\n",
    "    def waiting(self):\n",
    "        try:\n",
    "            if VERBOSE:\n",
    "                print( 'Server is idle at %.2f' % self.env.now )\n",
    "            yield self.env.timeout( MAXSIMTIME )\n",
    "        except simpy.Interrupt as i:\n",
    "            if VERBOSE:\n",
    "                 print('Server waken up and works at %.2f' % self.env.now )"
   ]
  },
  {
   "cell_type": "code",
   "execution_count": 993,
   "metadata": {},
   "outputs": [],
   "source": [
    "class JobGenerator:\n",
    "    def __init__(self, env, servers, nrjobs = 10000000, lam = 5, mu = 8):\n",
    "        self.servers = servers\n",
    "        self.nrjobs = nrjobs\n",
    "        self.interarrivaltime = 1/lam\n",
    "        self.servicetime = 1/mu\n",
    "        self.env = env\n",
    "        self.env.process( self.generatejobs() )\n",
    "        \n",
    "    def generatejobs(self):\n",
    "        i = 1\n",
    "        while True:\n",
    "            '''yield an event for new job arrival'''\n",
    "            job_interarrival = random.exponential( self.interarrivaltime )\n",
    "            yield self.env.timeout( job_interarrival )\n",
    "\n",
    "            ''' generate service time and add job to the list'''\n",
    "            job_duration = random.exponential( self.servicetime )\n",
    "            nowtime = self.env.now\n",
    "            for server in self.servers:\n",
    "                server.Jobs.append(Job(f'Job {i}', nowtime, job_duration))\n",
    "            if VERBOSE:\n",
    "                print(f'job {i}: t = {nowtime:.2f}, l = {job_duration:.2f}, dt = {job_interarrival:.2f}')\n",
    "            i += 1\n",
    "\n",
    "            ''' if server is idle, wake it up'''\n",
    "            for server in self.servers:\n",
    "                if not server.serversleeping.triggered:\n",
    "                    server.serversleeping.interrupt( 'Wake up, please.' )\n"
   ]
  },
  {
   "cell_type": "code",
   "execution_count": 994,
   "metadata": {},
   "outputs": [],
   "source": [
    "np.random.seed(0)\n",
    "env = simpy.Environment()\n",
    "servers = [Server(env, service) for service in SERVICE_DISCIPLINE]\n",
    "_ = JobGenerator(env, servers, POPULATION, LAMBDA, MU )\n",
    "env.run( until = MAXSIMTIME )"
   ]
  },
  {
   "cell_type": "code",
   "execution_count": 995,
   "metadata": {},
   "outputs": [],
   "source": [
    "if LOGGED:\n",
    "    for _, qlog in qlogs.items():\n",
    "        qlog.close()"
   ]
  },
  {
   "cell_type": "code",
   "execution_count": 996,
   "metadata": {},
   "outputs": [
    {
     "data": {
      "text/html": [
       "<div>\n",
       "<style scoped>\n",
       "    .dataframe tbody tr th:only-of-type {\n",
       "        vertical-align: middle;\n",
       "    }\n",
       "\n",
       "    .dataframe tbody tr th {\n",
       "        vertical-align: top;\n",
       "    }\n",
       "\n",
       "    .dataframe thead th {\n",
       "        text-align: right;\n",
       "    }\n",
       "</style>\n",
       "<table border=\"1\" class=\"dataframe\">\n",
       "  <thead>\n",
       "    <tr style=\"text-align: right;\">\n",
       "      <th></th>\n",
       "      <th>Simulation</th>\n",
       "      <th>Arrivals</th>\n",
       "      <th>Utilization</th>\n",
       "      <th>Mean spending time</th>\n",
       "      <th>Mean number in system</th>\n",
       "      <th>Mean waiting time</th>\n",
       "    </tr>\n",
       "  </thead>\n",
       "  <tbody>\n",
       "    <tr>\n",
       "      <th>0</th>\n",
       "      <td>Theory</td>\n",
       "      <td>190262</td>\n",
       "      <td>0.4750</td>\n",
       "      <td>0.2381</td>\n",
       "      <td>0.9048</td>\n",
       "      <td>0.1131</td>\n",
       "    </tr>\n",
       "    <tr>\n",
       "      <th>1</th>\n",
       "      <td>M/M/1</td>\n",
       "      <td>190262</td>\n",
       "      <td>0.4754</td>\n",
       "      <td>0.2374</td>\n",
       "      <td>0.9034</td>\n",
       "      <td>0.1124</td>\n",
       "    </tr>\n",
       "    <tr>\n",
       "      <th>2</th>\n",
       "      <td>RR</td>\n",
       "      <td>190262</td>\n",
       "      <td>0.4754</td>\n",
       "      <td>0.2374</td>\n",
       "      <td>0.9270</td>\n",
       "      <td>0.1125</td>\n",
       "    </tr>\n",
       "  </tbody>\n",
       "</table>\n",
       "</div>"
      ],
      "text/plain": [
       "  Simulation  Arrivals Utilization Mean spending time Mean number in system  \\\n",
       "0     Theory    190262      0.4750             0.2381                0.9048   \n",
       "1      M/M/1    190262      0.4754             0.2374                0.9034   \n",
       "2         RR    190262      0.4754             0.2374                0.9270   \n",
       "\n",
       "  Mean waiting time  \n",
       "0            0.1131  \n",
       "1            0.1124  \n",
       "2            0.1125  "
      ]
     },
     "execution_count": 996,
     "metadata": {},
     "output_type": "execute_result"
    }
   ],
   "source": [
    "RHO = LAMBDA/MU\n",
    "data = {\n",
    "    'Simulation'                : [ 'Theory', 'M/M/1', 'RR',],\n",
    "    'Arrivals'                  : [servers[0].jobsDone, servers[0].jobsDone, servers[1].jobsDone],\n",
    "    'Utilization'               : [f'{RHO:.4f}', f'{1.0-servers[0].idleTime/MAXSIMTIME:.4f}', f'{1.0-servers[1].idleTime/MAXSIMTIME:.4f}'],\n",
    "    'Mean spending time'        : [f'{(1/MU)/(1-RHO):.4f}', f'{servers[0].turnAroundTime/servers[0].jobsDone:.4f}', f'{servers[1].turnAroundTime/servers[1].jobsDone:.4f}'],\n",
    "    'Mean number in system'     : [f'{RHO/(1-RHO):.4f}', f'{(servers[0].numberInSys + len(servers[0].Jobs) * (MAXSIMTIME - servers[0].last))/MAXSIMTIME:.4f}', f'{(servers[1].numberInSys + len(servers[1].Jobs) * (MAXSIMTIME - servers[1].last))/MAXSIMTIME:.4f}'],\n",
    "    'Mean waiting time'         : [f'{RHO**2/((1-RHO)*LAMBDA):.4f}', f'{servers[0].waitingTime/servers[0].jobsDone:.4f}', f'{servers[1].waitingTime/servers[1].jobsDone:.4f}']\n",
    "}\n",
    "df = pd.DataFrame(data=data)\n",
    "df    "
   ]
  },
  {
   "cell_type": "code",
   "execution_count": 997,
   "metadata": {},
   "outputs": [
    {
     "data": {
      "image/png": "[encoded data removed]",
      "text/plain": [
       "<Figure size 640x480 with 6 Axes>"
      ]
     },
     "metadata": {},
     "output_type": "display_data"
    }
   ],
   "source": [
    "if LOGGED and PLOTTED:\n",
    "    import matplotlib.pyplot as plt\n",
    "    colors = {'FIFO': 'red', 'RR': 'blue' }\n",
    "    i = 1\n",
    "    for service in SERVICE_DISCIPLINE:\n",
    "        log = np.loadtxt( f'mm1-{service}-l{LAMBDA}-m{MU}.csv', delimiter = '\\t' )\n",
    "        plt.subplot( 3, 3, i )\n",
    "        plt.xlabel( 'Time' )\n",
    "        plt.ylabel( 'Queue length' )\n",
    "        plt.step( log[:200,0], log[:200,2], where='post', color=colors[service] )\n",
    "        i += 1\n",
    "        plt.title(f\"{service}\")\n",
    "\n",
    "        plt.subplot( 3, 3, i )\n",
    "        plt.xlabel( 'Time' )\n",
    "        plt.xlabel( 'Time' )\n",
    "        plt.ylabel( 'Waiting Time' )\n",
    "        plt.step( log[:200,0], log[:200,3], where='post', color=colors[service] )\n",
    "        i += 1\n",
    "        plt.title(f\"{service}\")\n",
    "\n",
    "        plt.subplot( 3, 3, i )\n",
    "        plt.xlabel( 'Time' )\n",
    "        plt.ylabel( 'Server state' )\n",
    "        plt.yticks([0, 1], ['idle', 'busy'])\n",
    "        #plt.step( log[:200,0], log[:200,1], where='post' )\n",
    "        plt.fill_between( log[:200,0], 0, log[:200,1], step=\"post\", alpha=.4, color=colors[service] )\n",
    "        i += 1\n",
    "        plt.tight_layout()\n",
    "        plt.title(f\"{service}\")\n",
    "    plt.show()  \n"
   ]
  },
  {
   "cell_type": "code",
   "execution_count": null,
   "metadata": {},
   "outputs": [],
   "source": []
  }
 ],
 "metadata": {
  "colab": {
   "collapsed_sections": [],
   "name": "MM1.ipynb",
   "provenance": []
  },
  "kernelspec": {
   "display_name": "Python 3.11.0 64-bit",
   "language": "python",
   "name": "python3"
  },
  "language_info": {
   "codemirror_mode": {
    "name": "ipython",
    "version": 3
   },
   "file_extension": ".py",
   "mimetype": "text/x-python",
   "name": "python",
   "nbconvert_exporter": "python",
   "pygments_lexer": "ipython3",
   "version": "3.11.0"
  },
  "vscode": {
   "interpreter": {
    "hash": "ecdb290ab18db34cf96037275d7dda4c5eaab344b4691dba7acf644d3e3bfffa"
   }
  }
 },
 "nbformat": 4,
 "nbformat_minor": 4
}
