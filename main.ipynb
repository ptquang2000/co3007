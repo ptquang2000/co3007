{
 "cells": [
  {
   "cell_type": "markdown",
   "metadata": {
    "id": "sidl8rN-gpnX"
   },
   "source": [
    "**Installation of SimPy\"\"\n",
    "If not available**"
   ]
  },
  {
   "cell_type": "code",
   "execution_count": 40,
   "metadata": {
    "colab": {
     "base_uri": "https://localhost:8080/",
     "height": 105
    },
    "id": "pKwPk03SfmJK",
    "outputId": "36ba5ba1-32bd-4328-851b-86bad702a048"
   },
   "outputs": [
    {
     "name": "stdout",
     "output_type": "stream",
     "text": [
      "Requirement already satisfied: simpy in c:\\users\\quang\\appdata\\local\\programs\\python\\python311\\lib\\site-packages (4.0.1)\n"
     ]
    },
    {
     "name": "stderr",
     "output_type": "stream",
     "text": [
      "\n",
      "[notice] A new release of pip available: 22.3 -> 22.3.1\n",
      "[notice] To update, run: python.exe -m pip install --upgrade pip\n"
     ]
    },
    {
     "name": "stdout",
     "output_type": "stream",
     "text": [
      "Requirement already satisfied: numpy in c:\\users\\quang\\appdata\\local\\programs\\python\\python311\\lib\\site-packages (1.23.5)\n"
     ]
    },
    {
     "name": "stderr",
     "output_type": "stream",
     "text": [
      "\n",
      "[notice] A new release of pip available: 22.3 -> 22.3.1\n",
      "[notice] To update, run: python.exe -m pip install --upgrade pip\n"
     ]
    },
    {
     "name": "stdout",
     "output_type": "stream",
     "text": [
      "Requirement already satisfied: matplotlib in c:\\users\\quang\\appdata\\local\\programs\\python\\python311\\lib\\site-packages (3.6.2)\n",
      "Requirement already satisfied: contourpy>=1.0.1 in c:\\users\\quang\\appdata\\local\\programs\\python\\python311\\lib\\site-packages (from matplotlib) (1.0.6)\n",
      "Requirement already satisfied: cycler>=0.10 in c:\\users\\quang\\appdata\\local\\programs\\python\\python311\\lib\\site-packages (from matplotlib) (0.11.0)\n",
      "Requirement already satisfied: fonttools>=4.22.0 in c:\\users\\quang\\appdata\\local\\programs\\python\\python311\\lib\\site-packages (from matplotlib) (4.38.0)\n",
      "Requirement already satisfied: kiwisolver>=1.0.1 in c:\\users\\quang\\appdata\\local\\programs\\python\\python311\\lib\\site-packages (from matplotlib) (1.4.4)\n",
      "Requirement already satisfied: numpy>=1.19 in c:\\users\\quang\\appdata\\local\\programs\\python\\python311\\lib\\site-packages (from matplotlib) (1.23.5)\n",
      "Requirement already satisfied: packaging>=20.0 in c:\\users\\quang\\appdata\\roaming\\python\\python311\\site-packages (from matplotlib) (21.3)\n",
      "Requirement already satisfied: pillow>=6.2.0 in c:\\users\\quang\\appdata\\local\\programs\\python\\python311\\lib\\site-packages (from matplotlib) (9.3.0)\n",
      "Requirement already satisfied: pyparsing>=2.2.1 in c:\\users\\quang\\appdata\\roaming\\python\\python311\\site-packages (from matplotlib) (3.0.9)\n",
      "Requirement already satisfied: python-dateutil>=2.7 in c:\\users\\quang\\appdata\\roaming\\python\\python311\\site-packages (from matplotlib) (2.8.2)\n",
      "Requirement already satisfied: six>=1.5 in c:\\users\\quang\\appdata\\roaming\\python\\python311\\site-packages (from python-dateutil>=2.7->matplotlib) (1.16.0)\n"
     ]
    },
    {
     "name": "stderr",
     "output_type": "stream",
     "text": [
      "\n",
      "[notice] A new release of pip available: 22.3 -> 22.3.1\n",
      "[notice] To update, run: python.exe -m pip install --upgrade pip\n",
      "\n",
      "[notice] A new release of pip available: 22.3 -> 22.3.1\n",
      "[notice] To update, run: python.exe -m pip install --upgrade pip\n"
     ]
    },
    {
     "name": "stdout",
     "output_type": "stream",
     "text": [
      "Requirement already satisfied: roundrobin in c:\\users\\quang\\appdata\\local\\programs\\python\\python311\\lib\\site-packages (0.0.4)\n"
     ]
    }
   ],
   "source": [
    "!pip install simpy\n",
    "!pip install numpy\n",
    "!pip install matplotlib\n",
    "!pip install roundrobin"
   ]
  },
  {
   "cell_type": "markdown",
   "metadata": {
    "id": "sK1Rcq_Nn7JU"
   },
   "source": [
    "**Import of required modules**"
   ]
  },
  {
   "cell_type": "code",
   "execution_count": 41,
   "metadata": {
    "id": "ZOd3WZaxoF6X"
   },
   "outputs": [],
   "source": [
    "import simpy\n",
    "import numpy as np\n",
    "import numpy.random as random"
   ]
  },
  {
   "cell_type": "markdown",
   "metadata": {
    "id": "RYQoyxyanvOF"
   },
   "source": [
    "**Parameters settings**"
   ]
  },
  {
   "cell_type": "code",
   "execution_count": 42,
   "metadata": {
    "id": "asVZg4Rhnszz"
   },
   "outputs": [],
   "source": [
    "MAXSIMTIME = 50000\n",
    "VERBOSE = False\n",
    "LAMBDA = 3.8\n",
    "MU = 8.0\n",
    "POPULATION = 50000000\n",
    "SERVICE_DISCIPLINE = 'RR'\n",
    "LOGGED = True\n",
    "PLOTTED = True\n",
    "TIME_SLICE = 1"
   ]
  },
  {
   "cell_type": "code",
   "execution_count": 43,
   "metadata": {},
   "outputs": [],
   "source": [
    "if LOGGED:\n",
    "    qlog = open( 'mm1-l%d-m%d.csv' % (LAMBDA,MU), 'w' )\n",
    "    qlog.write( '0\\t0\\t0\\n' )"
   ]
  },
  {
   "cell_type": "code",
   "execution_count": 44,
   "metadata": {},
   "outputs": [],
   "source": [
    "def SJF( job ):\n",
    "    return job.duration"
   ]
  },
  {
   "cell_type": "code",
   "execution_count": 45,
   "metadata": {},
   "outputs": [],
   "source": [
    "class Job:\n",
    "    def __init__(self, name, arrtime, duration):\n",
    "        self.name = name\n",
    "        self.arrtime = arrtime\n",
    "        self.duration = duration\n",
    "\n",
    "    def __str__(self):\n",
    "        return '%s at %d, length %d' %(self.name, self.arrtime, self.duration)"
   ]
  },
  {
   "cell_type": "code",
   "execution_count": 46,
   "metadata": {},
   "outputs": [],
   "source": [
    "class Server:\n",
    "    def __init__(self, env, strat = 'FIFO'):\n",
    "        self.env = env\n",
    "        self.strat = strat\n",
    "        self.Jobs = list(())\n",
    "        self.serversleeping = None\n",
    "        ''' statistics '''\n",
    "        self.waitingTime = 0\n",
    "        self.idleTime = 0\n",
    "        self.jobsDone = 0\n",
    "        ''' register a new server process '''\n",
    "        self.env.process( self.serve() )\n",
    "\n",
    "    def serve(self):\n",
    "        while True:\n",
    "            ''' do nothing, just change server to idle\n",
    "              and then yield a wait event which takes infinite time\n",
    "            '''\n",
    "            if len( self.Jobs ) == 0 :\n",
    "                self.serversleeping = self.env.process( self.waiting( self.env ))\n",
    "                t1 = self.env.now\n",
    "                yield self.serversleeping\n",
    "                ''' accumulate the server idle time'''\n",
    "                self.idleTime += self.env.now - t1\n",
    "            else:\n",
    "                ''' get the first job to be served'''\n",
    "                if self.strat == 'SJF':\n",
    "                    self.Jobs.sort( key = SJF )\n",
    "                    j = self.Jobs.pop( 0 )\n",
    "                elif self.strat == 'RR':\n",
    "                    if self.Jobs[0].duration > TIME_SLICE: \n",
    "                        self.Jobs[0].duration -= TIME_SLICE\n",
    "                        j = Job(name=self.Jobs[0].name, arrtime=self.Jobs[0].arrtime, duration=TIME_SLICE)\n",
    "                        self.Jobs = np.roll(self.Jobs, -1).tolist()\n",
    "                    else:\n",
    "                        j = self.Jobs.pop(0)\n",
    "                else: # FIFO by default\n",
    "                    j = self.Jobs.pop( 0 )\n",
    "                if LOGGED:\n",
    "                    qlog.write( '%.4f\\t%d\\t%d\\n' \n",
    "                        % (self.env.now, 1 if len(self.Jobs)>0 else 0, len(self.Jobs)) )\n",
    "\n",
    "                ''' sum up the waiting time'''\n",
    "                self.waitingTime += self.env.now - j.arrtime\n",
    "                ''' yield an event for the job finish'''\n",
    "                yield self.env.timeout( j.duration )\n",
    "                ''' sum up the jobs done '''\n",
    "                self.jobsDone += 1\n",
    "\n",
    "    def waiting(self, env):\n",
    "        try:\n",
    "            if VERBOSE:\n",
    "                print( 'Server is idle at %.2f' % self.env.now )\n",
    "            yield self.env.timeout( MAXSIMTIME )\n",
    "        except simpy.Interrupt as i:\n",
    "            if VERBOSE:\n",
    "                 print('Server waken up and works at %.2f' % self.env.now )"
   ]
  },
  {
   "cell_type": "code",
   "execution_count": 47,
   "metadata": {},
   "outputs": [],
   "source": [
    "class JobGenerator:\n",
    "    def __init__(self, env, server, nrjobs = 10000000, lam = 5, mu = 8):\n",
    "        self.server = server\n",
    "        self.nrjobs = nrjobs\n",
    "        self.interarrivaltime = 1/lam\n",
    "        self.servicetime = 1/mu\n",
    "        env.process( self.generatejobs(env) )\n",
    "        \n",
    "    def generatejobs(self, env):\n",
    "        i = 1\n",
    "        while True:\n",
    "            '''yield an event for new job arrival'''\n",
    "            job_interarrival = random.exponential( self.interarrivaltime )\n",
    "            yield env.timeout( job_interarrival )\n",
    "\n",
    "            ''' generate service time and add job to the list'''\n",
    "            job_duration = random.exponential( self.servicetime )\n",
    "            self.server.Jobs.append( Job('Job %s' %i, env.now, job_duration) )\n",
    "            if VERBOSE:\n",
    "                print( 'job %d: t = %.2f, l = %.2f, dt = %.2f' \n",
    "                    %( i, env.now, job_duration, job_interarrival ) )\n",
    "            i += 1\n",
    "\n",
    "            ''' if server is idle, wake it up'''\n",
    "            if not self.server.serversleeping.triggered:\n",
    "                self.server.serversleeping.interrupt( 'Wake up, please.' )\n"
   ]
  },
  {
   "cell_type": "code",
   "execution_count": 48,
   "metadata": {},
   "outputs": [],
   "source": [
    "env = simpy.Environment()\n",
    "MyServer = Server( env, SERVICE_DISCIPLINE )\n",
    "MyJobGenerator = JobGenerator( env, MyServer, POPULATION, LAMBDA, MU )\n",
    "env.run( until = MAXSIMTIME )"
   ]
  },
  {
   "cell_type": "code",
   "execution_count": 49,
   "metadata": {},
   "outputs": [],
   "source": [
    "if LOGGED:\n",
    "    qlog.close()"
   ]
  },
  {
   "cell_type": "code",
   "execution_count": 50,
   "metadata": {},
   "outputs": [
    {
     "name": "stdout",
     "output_type": "stream",
     "text": [
      "Arrivals               : 189424\n",
      "Utilization            : 0.47/0.47\n",
      "Mean waiting time      : 0.11/0.11\n"
     ]
    }
   ],
   "source": [
    "RHO = LAMBDA/MU\n",
    "print( 'Arrivals               : %d' % (MyServer.jobsDone) )\n",
    "print( 'Utilization            : %.2f/%.2f' \n",
    "    % (1.0-MyServer.idleTime/MAXSIMTIME, RHO) )\n",
    "print( 'Mean waiting time      : %.2f/%.2f' \n",
    "    % (MyServer.waitingTime/MyServer.jobsDone, RHO**2/((1-RHO)*LAMBDA) ) )"
   ]
  },
  {
   "cell_type": "code",
   "execution_count": 51,
   "metadata": {},
   "outputs": [
    {
     "data": {
      "image/png": "[encoded data removed]",
      "text/plain": [
       "<Figure size 640x480 with 2 Axes>"
      ]
     },
     "metadata": {},
     "output_type": "display_data"
    }
   ],
   "source": [
    "if LOGGED and PLOTTED:\n",
    "    import matplotlib.pyplot as plt\n",
    "    log = np.loadtxt( 'mm1-l%d-m%d.csv' % (LAMBDA,MU), delimiter = '\\t' )\n",
    "    plt.subplot( 2, 1, 1 )\n",
    "    plt.xlabel( 'Time' )\n",
    "    plt.ylabel( 'Queue length' )\n",
    "    plt.step( log[:200,0], log[:200,2], where='post' )\n",
    "    plt.subplot( 2, 1, 2 )\n",
    "    plt.xlabel( 'Time' )\n",
    "    plt.ylabel( 'Server state' )\n",
    "    plt.yticks([0, 1], ['idle', 'busy'])\n",
    "    #plt.step( log[:200,0], log[:200,1], where='post' )\n",
    "    plt.fill_between( log[:200,0], 0, log[:200,1], step=\"post\", alpha=.4 )\n",
    "    plt.tight_layout()\n",
    "    plt.show()"
   ]
  }
 ],
 "metadata": {
  "colab": {
   "collapsed_sections": [],
   "name": "MM1.ipynb",
   "provenance": []
  },
  "kernelspec": {
   "display_name": "Python 3.11.0 64-bit",
   "language": "python",
   "name": "python3"
  },
  "language_info": {
   "codemirror_mode": {
    "name": "ipython",
    "version": 3
   },
   "file_extension": ".py",
   "mimetype": "text/x-python",
   "name": "python",
   "nbconvert_exporter": "python",
   "pygments_lexer": "ipython3",
   "version": "3.11.0"
  },
  "vscode": {
   "interpreter": {
    "hash": "ecdb290ab18db34cf96037275d7dda4c5eaab344b4691dba7acf644d3e3bfffa"
   }
  }
 },
 "nbformat": 4,
 "nbformat_minor": 4
}
