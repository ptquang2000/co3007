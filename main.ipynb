{
 "cells": [
  {
   "cell_type": "markdown",
   "metadata": {
    "id": "sidl8rN-gpnX"
   },
   "source": [
    "**Installation of SimPy\"\"\n",
    "If not available**"
   ]
  },
  {
   "cell_type": "code",
   "execution_count": 460,
   "metadata": {
    "colab": {
     "base_uri": "https://localhost:8080/",
     "height": 105
    },
    "id": "pKwPk03SfmJK",
    "outputId": "36ba5ba1-32bd-4328-851b-86bad702a048"
   },
   "outputs": [],
   "source": [
    "#%pip install simpy\n",
    "#%pip install numpy\n",
    "#%pip install matplotlib\n",
    "#%pip install roundrobin"
   ]
  },
  {
   "cell_type": "markdown",
   "metadata": {
    "id": "sK1Rcq_Nn7JU"
   },
   "source": [
    "**Import of required modules**"
   ]
  },
  {
   "cell_type": "code",
   "execution_count": 461,
   "metadata": {
    "id": "ZOd3WZaxoF6X"
   },
   "outputs": [],
   "source": [
    "import simpy\n",
    "import numpy as np\n",
    "import numpy.random as random"
   ]
  },
  {
   "cell_type": "markdown",
   "metadata": {
    "id": "RYQoyxyanvOF"
   },
   "source": [
    "**Parameters settings**"
   ]
  },
  {
   "cell_type": "code",
   "execution_count": 462,
   "metadata": {
    "id": "asVZg4Rhnszz"
   },
   "outputs": [],
   "source": [
    "MAXSIMTIME = 50000\n",
    "VERBOSE = False\n",
    "LAMBDA = 3.8\n",
    "MU = 8.0\n",
    "POPULATION = 50000000\n",
    "SERVICE_DISCIPLINE = ['FIFO', 'RR']\n",
    "LOGGED = True\n",
    "PLOTTED = True\n",
    "TIME_SLICE = 1\n",
    "qlogs = dict()"
   ]
  },
  {
   "cell_type": "code",
   "execution_count": 463,
   "metadata": {},
   "outputs": [],
   "source": [
    "if LOGGED:\n",
    "    for service in SERVICE_DISCIPLINE:\n",
    "        qlogs[service] = open(f'mm1-{service}-l{LAMBDA}-m{MU}.csv', 'w+')\n",
    "        qlogs[service].write('0\\t0\\t0\\t0\\n')"
   ]
  },
  {
   "cell_type": "code",
   "execution_count": 464,
   "metadata": {},
   "outputs": [],
   "source": [
    "def SJF( job ):\n",
    "    return job.duration"
   ]
  },
  {
   "cell_type": "code",
   "execution_count": 465,
   "metadata": {},
   "outputs": [],
   "source": [
    "class Job:\n",
    "    def __init__(self, name, arrtime, duration):\n",
    "        self.name = name\n",
    "        self.arrtime = arrtime\n",
    "        self.duration = duration\n",
    "        self.bursttime = duration\n",
    "\n",
    "    def __str__(self):\n",
    "        return '%s at %d, length %d' %(self.name, self.arrtime, self.duration)"
   ]
  },
  {
   "cell_type": "code",
   "execution_count": 466,
   "metadata": {},
   "outputs": [],
   "source": [
    "class Server:\n",
    "    def __init__(self, env, strat = 'FIFO'):\n",
    "        self.env = env\n",
    "        self.strat = strat\n",
    "        self.Jobs = list(())\n",
    "        self.serversleeping = None\n",
    "        ''' statistics '''\n",
    "        self.waitingTime = 0\n",
    "        self.idleTime = 0\n",
    "        self.jobsDone = 0\n",
    "        ''' register a new server process '''\n",
    "        self.env.process( self.serve() )\n",
    "\n",
    "    def serve(self):\n",
    "        while True:\n",
    "            ''' do nothing, just change server to idle\n",
    "              and then yield a wait event which takes infinite time\n",
    "            '''\n",
    "            if len( self.Jobs ) == 0 :\n",
    "                self.serversleeping = self.env.process( self.waiting())\n",
    "                t1 = self.env.now\n",
    "                yield self.serversleeping\n",
    "                ''' accumulate the server idle time'''\n",
    "                self.idleTime += self.env.now - t1\n",
    "            else:\n",
    "                ''' get the first job to be served'''\n",
    "                if self.strat == 'SJF':\n",
    "                    self.Jobs.sort( key = SJF )\n",
    "                    j = self.Jobs.pop( 0 )\n",
    "                elif self.strat == 'RR':\n",
    "                    if self.Jobs[0].duration > TIME_SLICE: \n",
    "                        self.Jobs[0].duration -= TIME_SLICE\n",
    "                        j = Job(name=self.Jobs[0].name, arrtime=self.Jobs[0].arrtime, duration=TIME_SLICE)\n",
    "                        self.Jobs = np.roll(self.Jobs, -1).tolist()\n",
    "                    else:\n",
    "                        j = self.Jobs.pop(0)\n",
    "                else: # FIFO by default\n",
    "                    j = self.Jobs.pop( 0 )\n",
    "\n",
    "                waitingtime = 0\n",
    "                if self.strat == 'RR':\n",
    "                    if len(self.Jobs) > 0 and self.Jobs[-1].name == j.name: \n",
    "                        yield self.env.timeout( j.duration )\n",
    "                    else:\n",
    "                        waitingtime += (self.env.now + j.duration) - j.arrtime - j.bursttime\n",
    "                        yield self.env.timeout( j.duration )\n",
    "                        self.jobsDone += 1\n",
    "                else:\n",
    "                    ''' sum up the waiting time'''\n",
    "                    waitingtime += self.env.now - j.arrtime\n",
    "                    ''' yield an event for the job finish'''\n",
    "                    yield self.env.timeout( j.duration )\n",
    "                    ''' sum up the jobs done '''\n",
    "                    self.jobsDone += 1\n",
    "                \n",
    "                self.waitingTime += waitingtime\n",
    "                if LOGGED:\n",
    "                    for _, qlog in qlogs.items():\n",
    "                        qlog.write(f'{self.env.now:.4f}\\t{1 if len(self.Jobs) > 0 else 0}\\t{len(self.Jobs)}\\t{waitingtime}\\n')\n",
    "\n",
    "    def waiting(self):\n",
    "        try:\n",
    "            if VERBOSE:\n",
    "                print( 'Server is idle at %.2f' % self.env.now )\n",
    "            yield self.env.timeout( MAXSIMTIME )\n",
    "        except simpy.Interrupt as i:\n",
    "            if VERBOSE:\n",
    "                 print('Server waken up and works at %.2f' % self.env.now )"
   ]
  },
  {
   "cell_type": "code",
   "execution_count": 467,
   "metadata": {},
   "outputs": [],
   "source": [
    "class JobGenerator:\n",
    "    def __init__(self, env, servers, nrjobs = 10000000, lam = 5, mu = 8):\n",
    "        self.servers = servers\n",
    "        self.nrjobs = nrjobs\n",
    "        self.interarrivaltime = 1/lam\n",
    "        self.servicetime = 1/mu\n",
    "        self.env = env\n",
    "        self.env.process( self.generatejobs() )\n",
    "        \n",
    "    def generatejobs(self):\n",
    "        i = 1\n",
    "        while True:\n",
    "            '''yield an event for new job arrival'''\n",
    "            job_interarrival = random.exponential( self.interarrivaltime )\n",
    "            yield self.env.timeout( job_interarrival )\n",
    "\n",
    "            ''' generate service time and add job to the list'''\n",
    "            job_duration = random.exponential( self.servicetime )\n",
    "            nowtime = self.env.now\n",
    "            for server in self.servers:\n",
    "                server.Jobs.append(Job(f'Job {i}', nowtime, job_duration))\n",
    "            if VERBOSE:\n",
    "                print(f'job {i}: t = {nowtime:.2f}, l = {job_duration:.2f}, dt = {job_interarrival:.2f}')\n",
    "            i += 1\n",
    "\n",
    "            ''' if server is idle, wake it up'''\n",
    "            for server in self.servers:\n",
    "                if not server.serversleeping.triggered:\n",
    "                    server.serversleeping.interrupt( 'Wake up, please.' )\n"
   ]
  },
  {
   "cell_type": "code",
   "execution_count": 468,
   "metadata": {},
   "outputs": [],
   "source": [
    "np.random.seed(0)\n",
    "env = simpy.Environment()\n",
    "servers = [Server(env, service) for service in SERVICE_DISCIPLINE]\n",
    "_ = JobGenerator(env, servers, POPULATION, LAMBDA, MU )\n",
    "env.run( until = MAXSIMTIME )"
   ]
  },
  {
   "cell_type": "code",
   "execution_count": 469,
   "metadata": {},
   "outputs": [],
   "source": [
    "if LOGGED:\n",
    "    for _, qlog in qlogs.items():\n",
    "        qlog.close()"
   ]
  },
  {
   "cell_type": "code",
   "execution_count": 470,
   "metadata": {},
   "outputs": [
    {
     "name": "stdout",
     "output_type": "stream",
     "text": [
      "Simulation             : FIFO\n",
      "Arrivals               : 190262\n",
      "Utilization            : 0.48/0.47\n",
      "Mean waiting time      : 0.11/0.11\n",
      "\n",
      "Simulation             : RR\n",
      "Arrivals               : 190262\n",
      "Utilization            : 0.48/0.47\n",
      "Mean waiting time      : 0.11/0.11\n",
      "\n"
     ]
    }
   ],
   "source": [
    "for server in servers:\n",
    "    RHO = LAMBDA/MU\n",
    "    print( f'Simulation             : {server.strat}' )\n",
    "    print( f'Arrivals               : {server.jobsDone}'  )\n",
    "    print( f'Utilization            : {1.0-server.idleTime/MAXSIMTIME:.2f}/{RHO:.2f}' )\n",
    "    print( f'Mean waiting time      : {server.waitingTime/server.jobsDone:.2f}/{RHO**2/((1-RHO)*LAMBDA):.2f}' )\n",
    "    print()\n",
    "    "
   ]
  },
  {
   "cell_type": "code",
   "execution_count": 476,
   "metadata": {},
   "outputs": [
    {
     "ename": "ValueError",
     "evalue": "where size (1) does not match x size (200)",
     "output_type": "error",
     "traceback": [
      "\u001b[1;31m---------------------------------------------------------------------------\u001b[0m",
      "\u001b[1;31mValueError\u001b[0m                                Traceback (most recent call last)",
      "Cell \u001b[1;32mIn[476], line 18\u001b[0m\n\u001b[0;32m     16\u001b[0m plt\u001b[39m.\u001b[39mxlabel( \u001b[39m'\u001b[39m\u001b[39mTime\u001b[39m\u001b[39m'\u001b[39m )\n\u001b[0;32m     17\u001b[0m plt\u001b[39m.\u001b[39mylabel( \u001b[39m'\u001b[39m\u001b[39mWaiting Time\u001b[39m\u001b[39m'\u001b[39m )\n\u001b[1;32m---> 18\u001b[0m plt\u001b[39m.\u001b[39;49mfill_between( log[:\u001b[39m200\u001b[39;49m,\u001b[39m0\u001b[39;49m], log[:\u001b[39m200\u001b[39;49m,\u001b[39m3\u001b[39;49m], where\u001b[39m=\u001b[39;49m\u001b[39m'\u001b[39;49m\u001b[39mpost\u001b[39;49m\u001b[39m'\u001b[39;49m, alpha\u001b[39m=\u001b[39;49m\u001b[39m.4\u001b[39;49m, color\u001b[39m=\u001b[39;49mcolors[service] )\n\u001b[0;32m     19\u001b[0m i \u001b[39m+\u001b[39m\u001b[39m=\u001b[39m \u001b[39m1\u001b[39m\n\u001b[0;32m     20\u001b[0m plt\u001b[39m.\u001b[39mtitle(\u001b[39mf\u001b[39m\u001b[39m\"\u001b[39m\u001b[39m{\u001b[39;00mservice\u001b[39m}\u001b[39;00m\u001b[39m\"\u001b[39m)\n",
      "File \u001b[1;32mc:\\Users\\quang\\AppData\\Local\\Programs\\Python\\Python311\\Lib\\site-packages\\matplotlib\\pyplot.py:2526\u001b[0m, in \u001b[0;36mfill_between\u001b[1;34m(x, y1, y2, where, interpolate, step, data, **kwargs)\u001b[0m\n\u001b[0;32m   2522\u001b[0m \u001b[39m@_copy_docstring_and_deprecators\u001b[39m(Axes\u001b[39m.\u001b[39mfill_between)\n\u001b[0;32m   2523\u001b[0m \u001b[39mdef\u001b[39;00m \u001b[39mfill_between\u001b[39m(\n\u001b[0;32m   2524\u001b[0m         x, y1, y2\u001b[39m=\u001b[39m\u001b[39m0\u001b[39m, where\u001b[39m=\u001b[39m\u001b[39mNone\u001b[39;00m, interpolate\u001b[39m=\u001b[39m\u001b[39mFalse\u001b[39;00m, step\u001b[39m=\u001b[39m\u001b[39mNone\u001b[39;00m, \u001b[39m*\u001b[39m,\n\u001b[0;32m   2525\u001b[0m         data\u001b[39m=\u001b[39m\u001b[39mNone\u001b[39;00m, \u001b[39m*\u001b[39m\u001b[39m*\u001b[39mkwargs):\n\u001b[1;32m-> 2526\u001b[0m     \u001b[39mreturn\u001b[39;00m gca()\u001b[39m.\u001b[39;49mfill_between(\n\u001b[0;32m   2527\u001b[0m         x, y1, y2\u001b[39m=\u001b[39;49my2, where\u001b[39m=\u001b[39;49mwhere, interpolate\u001b[39m=\u001b[39;49minterpolate, step\u001b[39m=\u001b[39;49mstep,\n\u001b[0;32m   2528\u001b[0m         \u001b[39m*\u001b[39;49m\u001b[39m*\u001b[39;49m({\u001b[39m\"\u001b[39;49m\u001b[39mdata\u001b[39;49m\u001b[39m\"\u001b[39;49m: data} \u001b[39mif\u001b[39;49;00m data \u001b[39mis\u001b[39;49;00m \u001b[39mnot\u001b[39;49;00m \u001b[39mNone\u001b[39;49;00m \u001b[39melse\u001b[39;49;00m {}), \u001b[39m*\u001b[39;49m\u001b[39m*\u001b[39;49mkwargs)\n",
      "File \u001b[1;32mc:\\Users\\quang\\AppData\\Local\\Programs\\Python\\Python311\\Lib\\site-packages\\matplotlib\\__init__.py:1423\u001b[0m, in \u001b[0;36m_preprocess_data.<locals>.inner\u001b[1;34m(ax, data, *args, **kwargs)\u001b[0m\n\u001b[0;32m   1420\u001b[0m \u001b[39m@functools\u001b[39m\u001b[39m.\u001b[39mwraps(func)\n\u001b[0;32m   1421\u001b[0m \u001b[39mdef\u001b[39;00m \u001b[39minner\u001b[39m(ax, \u001b[39m*\u001b[39margs, data\u001b[39m=\u001b[39m\u001b[39mNone\u001b[39;00m, \u001b[39m*\u001b[39m\u001b[39m*\u001b[39mkwargs):\n\u001b[0;32m   1422\u001b[0m     \u001b[39mif\u001b[39;00m data \u001b[39mis\u001b[39;00m \u001b[39mNone\u001b[39;00m:\n\u001b[1;32m-> 1423\u001b[0m         \u001b[39mreturn\u001b[39;00m func(ax, \u001b[39m*\u001b[39;49m\u001b[39mmap\u001b[39;49m(sanitize_sequence, args), \u001b[39m*\u001b[39;49m\u001b[39m*\u001b[39;49mkwargs)\n\u001b[0;32m   1425\u001b[0m     bound \u001b[39m=\u001b[39m new_sig\u001b[39m.\u001b[39mbind(ax, \u001b[39m*\u001b[39margs, \u001b[39m*\u001b[39m\u001b[39m*\u001b[39mkwargs)\n\u001b[0;32m   1426\u001b[0m     auto_label \u001b[39m=\u001b[39m (bound\u001b[39m.\u001b[39marguments\u001b[39m.\u001b[39mget(label_namer)\n\u001b[0;32m   1427\u001b[0m                   \u001b[39mor\u001b[39;00m bound\u001b[39m.\u001b[39mkwargs\u001b[39m.\u001b[39mget(label_namer))\n",
      "File \u001b[1;32mc:\\Users\\quang\\AppData\\Local\\Programs\\Python\\Python311\\Lib\\site-packages\\matplotlib\\axes\\_axes.py:5367\u001b[0m, in \u001b[0;36mAxes.fill_between\u001b[1;34m(self, x, y1, y2, where, interpolate, step, **kwargs)\u001b[0m\n\u001b[0;32m   5365\u001b[0m \u001b[39mdef\u001b[39;00m \u001b[39mfill_between\u001b[39m(\u001b[39mself\u001b[39m, x, y1, y2\u001b[39m=\u001b[39m\u001b[39m0\u001b[39m, where\u001b[39m=\u001b[39m\u001b[39mNone\u001b[39;00m, interpolate\u001b[39m=\u001b[39m\u001b[39mFalse\u001b[39;00m,\n\u001b[0;32m   5366\u001b[0m                  step\u001b[39m=\u001b[39m\u001b[39mNone\u001b[39;00m, \u001b[39m*\u001b[39m\u001b[39m*\u001b[39mkwargs):\n\u001b[1;32m-> 5367\u001b[0m     \u001b[39mreturn\u001b[39;00m \u001b[39mself\u001b[39;49m\u001b[39m.\u001b[39;49m_fill_between_x_or_y(\n\u001b[0;32m   5368\u001b[0m         \u001b[39m\"\u001b[39;49m\u001b[39mx\u001b[39;49m\u001b[39m\"\u001b[39;49m, x, y1, y2,\n\u001b[0;32m   5369\u001b[0m         where\u001b[39m=\u001b[39;49mwhere, interpolate\u001b[39m=\u001b[39;49minterpolate, step\u001b[39m=\u001b[39;49mstep, \u001b[39m*\u001b[39;49m\u001b[39m*\u001b[39;49mkwargs)\n",
      "File \u001b[1;32mc:\\Users\\quang\\AppData\\Local\\Programs\\Python\\Python311\\Lib\\site-packages\\matplotlib\\axes\\_axes.py:5286\u001b[0m, in \u001b[0;36mAxes._fill_between_x_or_y\u001b[1;34m(self, ind_dir, ind, dep1, dep2, where, interpolate, step, **kwargs)\u001b[0m\n\u001b[0;32m   5284\u001b[0m     where \u001b[39m=\u001b[39m np\u001b[39m.\u001b[39masarray(where, dtype\u001b[39m=\u001b[39m\u001b[39mbool\u001b[39m)\n\u001b[0;32m   5285\u001b[0m     \u001b[39mif\u001b[39;00m where\u001b[39m.\u001b[39msize \u001b[39m!=\u001b[39m ind\u001b[39m.\u001b[39msize:\n\u001b[1;32m-> 5286\u001b[0m         \u001b[39mraise\u001b[39;00m \u001b[39mValueError\u001b[39;00m(\u001b[39mf\u001b[39m\u001b[39m\"\u001b[39m\u001b[39mwhere size (\u001b[39m\u001b[39m{\u001b[39;00mwhere\u001b[39m.\u001b[39msize\u001b[39m}\u001b[39;00m\u001b[39m) does not match \u001b[39m\u001b[39m\"\u001b[39m\n\u001b[0;32m   5287\u001b[0m                          \u001b[39mf\u001b[39m\u001b[39m\"\u001b[39m\u001b[39m{\u001b[39;00mind_dir\u001b[39m}\u001b[39;00m\u001b[39m size (\u001b[39m\u001b[39m{\u001b[39;00mind\u001b[39m.\u001b[39msize\u001b[39m}\u001b[39;00m\u001b[39m)\u001b[39m\u001b[39m\"\u001b[39m)\n\u001b[0;32m   5288\u001b[0m where \u001b[39m=\u001b[39m where \u001b[39m&\u001b[39m \u001b[39m~\u001b[39mfunctools\u001b[39m.\u001b[39mreduce(\n\u001b[0;32m   5289\u001b[0m     np\u001b[39m.\u001b[39mlogical_or, \u001b[39mmap\u001b[39m(np\u001b[39m.\u001b[39mma\u001b[39m.\u001b[39mgetmaskarray, [ind, dep1, dep2]))\n\u001b[0;32m   5291\u001b[0m ind, dep1, dep2 \u001b[39m=\u001b[39m np\u001b[39m.\u001b[39mbroadcast_arrays(\n\u001b[0;32m   5292\u001b[0m     np\u001b[39m.\u001b[39matleast_1d(ind), dep1, dep2, subok\u001b[39m=\u001b[39m\u001b[39mTrue\u001b[39;00m)\n",
      "\u001b[1;31mValueError\u001b[0m: where size (1) does not match x size (200)"
     ]
    },
    {
     "data": {
      "image/png": "[encoded data removed]",
      "text/plain": [
       "<Figure size 640x480 with 2 Axes>"
      ]
     },
     "metadata": {},
     "output_type": "display_data"
    }
   ],
   "source": [
    "if LOGGED and PLOTTED:\n",
    "    import matplotlib.pyplot as plt\n",
    "    colors = {'FIFO': 'red', 'RR': 'blue' }\n",
    "    i = 1\n",
    "    for service in SERVICE_DISCIPLINE:\n",
    "        log = np.loadtxt( f'mm1-{service}-l{LAMBDA}-m{MU}.csv', delimiter = '\\t' )\n",
    "        plt.subplot( 3, 3, i )\n",
    "        plt.xlabel( 'Time' )\n",
    "        plt.ylabel( 'Queue length' )\n",
    "        plt.step( log[:200,0], log[:200,2], where='post', color=colors[service] )\n",
    "        i += 1\n",
    "        plt.title(f\"{service}\")\n",
    "\n",
    "        plt.subplot( 3, 3, i )\n",
    "        plt.xlabel( 'Time' )\n",
    "        plt.xlabel( 'Time' )\n",
    "        plt.ylabel( 'Waiting Time' )\n",
    "        plt.step( log[:200,0], log[:200,3], where='post', color=colors[service] )\n",
    "        i += 1\n",
    "        plt.title(f\"{service}\")\n",
    "\n",
    "        plt.subplot( 3, 3, i )\n",
    "        plt.xlabel( 'Time' )\n",
    "        plt.ylabel( 'Server state' )\n",
    "        plt.yticks([0, 1], ['idle', 'busy'])\n",
    "        #plt.step( log[:200,0], log[:200,1], where='post' )\n",
    "        plt.fill_between( log[:200,0], 0, log[:200,1], step=\"post\", alpha=.4, color=colors[service] )\n",
    "        i += 1\n",
    "        plt.tight_layout()\n",
    "        plt.title(f\"{service}\")\n",
    "    plt.show()  \n"
   ]
  },
  {
   "cell_type": "code",
   "execution_count": null,
   "metadata": {},
   "outputs": [],
   "source": []
  }
 ],
 "metadata": {
  "colab": {
   "collapsed_sections": [],
   "name": "MM1.ipynb",
   "provenance": []
  },
  "kernelspec": {
   "display_name": "Python 3.11.0 64-bit",
   "language": "python",
   "name": "python3"
  },
  "language_info": {
   "codemirror_mode": {
    "name": "ipython",
    "version": 3
   },
   "file_extension": ".py",
   "mimetype": "text/x-python",
   "name": "python",
   "nbconvert_exporter": "python",
   "pygments_lexer": "ipython3",
   "version": "3.11.0"
  },
  "vscode": {
   "interpreter": {
    "hash": "ecdb290ab18db34cf96037275d7dda4c5eaab344b4691dba7acf644d3e3bfffa"
   }
  }
 },
 "nbformat": 4,
 "nbformat_minor": 4
}
