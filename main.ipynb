{
 "cells": [
  {
   "cell_type": "markdown",
   "metadata": {
    "id": "sidl8rN-gpnX"
   },
   "source": [
    "**Installation of SimPy\"\"\n",
    "If not available**"
   ]
  },
  {
   "cell_type": "code",
   "execution_count": 491,
   "metadata": {
    "colab": {
     "base_uri": "https://localhost:8080/",
     "height": 105
    },
    "id": "pKwPk03SfmJK",
    "outputId": "36ba5ba1-32bd-4328-851b-86bad702a048"
   },
   "outputs": [],
   "source": [
    "#%pip install simpy\n",
    "#%pip install numpy\n",
    "#%pip install matplotlib\n",
    "#%pip install roundrobin"
   ]
  },
  {
   "cell_type": "markdown",
   "metadata": {
    "id": "sK1Rcq_Nn7JU"
   },
   "source": [
    "**Import of required modules**"
   ]
  },
  {
   "cell_type": "code",
   "execution_count": 492,
   "metadata": {
    "id": "ZOd3WZaxoF6X"
   },
   "outputs": [],
   "source": [
    "import simpy\n",
    "import numpy as np\n",
    "import numpy.random as random"
   ]
  },
  {
   "cell_type": "markdown",
   "metadata": {
    "id": "RYQoyxyanvOF"
   },
   "source": [
    "**Parameters settings**"
   ]
  },
  {
   "cell_type": "code",
   "execution_count": 493,
   "metadata": {
    "id": "asVZg4Rhnszz"
   },
   "outputs": [],
   "source": [
    "MAXSIMTIME = 50000\n",
    "VERBOSE = False\n",
    "LAMBDA = 3.8\n",
    "MU = 8.0\n",
    "POPULATION = 50000000\n",
    "SERVICE_DISCIPLINE = ['FIFO', 'RR']\n",
    "LOGGED = True\n",
    "PLOTTED = True\n",
    "TIME_SLICE = 1\n",
    "qlogs = dict()"
   ]
  },
  {
   "cell_type": "code",
   "execution_count": 494,
   "metadata": {},
   "outputs": [],
   "source": [
    "if LOGGED:\n",
    "    for service in SERVICE_DISCIPLINE:\n",
    "        qlogs[service] = open(f'mm1-{service}-l{LAMBDA}-m{MU}.csv', 'w+')\n",
    "        qlogs[service].write('0\\t0\\t0\\t0\\n')"
   ]
  },
  {
   "cell_type": "code",
   "execution_count": 495,
   "metadata": {},
   "outputs": [],
   "source": [
    "def SJF( job ):\n",
    "    return job.duration"
   ]
  },
  {
   "cell_type": "code",
   "execution_count": 496,
   "metadata": {},
   "outputs": [],
   "source": [
    "class Job:\n",
    "    def __init__(self, name, arrtime, duration):\n",
    "        self.name = name\n",
    "        self.arrtime = arrtime\n",
    "        self.duration = duration\n",
    "        self.bursttime = duration\n",
    "\n",
    "    def __str__(self):\n",
    "        return '%s at %d, length %d' %(self.name, self.arrtime, self.duration)"
   ]
  },
  {
   "cell_type": "code",
   "execution_count": 497,
   "metadata": {},
   "outputs": [],
   "source": [
    "class Server:\n",
    "    def __init__(self, env, strat = 'FIFO'):\n",
    "        self.env = env\n",
    "        self.strat = strat\n",
    "        self.Jobs = list(())\n",
    "        self.serversleeping = None\n",
    "        ''' statistics '''\n",
    "        self.waitingTime = 0\n",
    "        self.turnAroundTime = 0\n",
    "        self.idleTime = 0\n",
    "        self.jobsDone = 0\n",
    "        ''' register a new server process '''\n",
    "        self.env.process( self.serve() )\n",
    "\n",
    "    def serve(self):\n",
    "        while True:\n",
    "            ''' do nothing, just change server to idle\n",
    "              and then yield a wait event which takes infinite time\n",
    "            '''\n",
    "            if len( self.Jobs ) == 0 :\n",
    "                self.serversleeping = self.env.process( self.waiting())\n",
    "                t1 = self.env.now\n",
    "                yield self.serversleeping\n",
    "                ''' accumulate the server idle time'''\n",
    "                self.idleTime += self.env.now - t1\n",
    "            else:\n",
    "                ''' get the first job to be served'''\n",
    "                if self.strat == 'SJF':\n",
    "                    self.Jobs.sort( key = SJF )\n",
    "                    j = self.Jobs.pop( 0 )\n",
    "                elif self.strat == 'RR':\n",
    "                    if self.Jobs[0].duration > TIME_SLICE: \n",
    "                        self.Jobs[0].duration -= TIME_SLICE\n",
    "                        j = Job(name=self.Jobs[0].name, arrtime=self.Jobs[0].arrtime, duration=TIME_SLICE)\n",
    "                        self.Jobs = np.roll(self.Jobs, -1).tolist()\n",
    "                    else:\n",
    "                        j = self.Jobs.pop(0)\n",
    "                else: # FIFO by default\n",
    "                    j = self.Jobs.pop( 0 )\n",
    "\n",
    "                waitingtime = 0\n",
    "                turnaroundtime = 0\n",
    "                if self.strat == 'RR':\n",
    "                    if len(self.Jobs) > 0 and self.Jobs[-1].name == j.name: \n",
    "                        yield self.env.timeout( j.duration )\n",
    "                    else:\n",
    "                        turnaroundtime += (self.env.now + j.duration) - j.arrtime\n",
    "                        waitingtime += turnaroundtime - j.bursttime\n",
    "                        yield self.env.timeout( j.duration )\n",
    "                        self.jobsDone += 1\n",
    "                else:\n",
    "                    ''' sum up the waiting time'''\n",
    "                    turnaroundtime += self.env.now - j.arrtime\n",
    "                    waitingtime += self.env.now - j.arrtime\n",
    "                    ''' yield an event for the job finish'''\n",
    "                    yield self.env.timeout( j.duration )\n",
    "                    ''' sum up the jobs done '''\n",
    "                    self.jobsDone += 1\n",
    "                \n",
    "                self.waitingTime += waitingtime\n",
    "                self.turnAroundTime += turnaroundtime\n",
    "                if LOGGED:\n",
    "                    for _, qlog in qlogs.items():\n",
    "                        qlog.write(f'{self.env.now:.4f}\\t{1 if len(self.Jobs) > 0 else 0}\\t{len(self.Jobs)}\\t{waitingtime}\\n')\n",
    "\n",
    "    def waiting(self):\n",
    "        try:\n",
    "            if VERBOSE:\n",
    "                print( 'Server is idle at %.2f' % self.env.now )\n",
    "            yield self.env.timeout( MAXSIMTIME )\n",
    "        except simpy.Interrupt as i:\n",
    "            if VERBOSE:\n",
    "                 print('Server waken up and works at %.2f' % self.env.now )"
   ]
  },
  {
   "cell_type": "code",
   "execution_count": 498,
   "metadata": {},
   "outputs": [],
   "source": [
    "class JobGenerator:\n",
    "    def __init__(self, env, servers, nrjobs = 10000000, lam = 5, mu = 8):\n",
    "        self.servers = servers\n",
    "        self.nrjobs = nrjobs\n",
    "        self.interarrivaltime = 1/lam\n",
    "        self.servicetime = 1/mu\n",
    "        self.env = env\n",
    "        self.env.process( self.generatejobs() )\n",
    "        \n",
    "    def generatejobs(self):\n",
    "        i = 1\n",
    "        while True:\n",
    "            '''yield an event for new job arrival'''\n",
    "            job_interarrival = random.exponential( self.interarrivaltime )\n",
    "            yield self.env.timeout( job_interarrival )\n",
    "\n",
    "            ''' generate service time and add job to the list'''\n",
    "            job_duration = random.exponential( self.servicetime )\n",
    "            nowtime = self.env.now\n",
    "            for server in self.servers:\n",
    "                server.Jobs.append(Job(f'Job {i}', nowtime, job_duration))\n",
    "            if VERBOSE:\n",
    "                print(f'job {i}: t = {nowtime:.2f}, l = {job_duration:.2f}, dt = {job_interarrival:.2f}')\n",
    "            i += 1\n",
    "\n",
    "            ''' if server is idle, wake it up'''\n",
    "            for server in self.servers:\n",
    "                if not server.serversleeping.triggered:\n",
    "                    server.serversleeping.interrupt( 'Wake up, please.' )\n"
   ]
  },
  {
   "cell_type": "code",
   "execution_count": 499,
   "metadata": {},
   "outputs": [],
   "source": [
    "np.random.seed(0)\n",
    "env = simpy.Environment()\n",
    "servers = [Server(env, service) for service in SERVICE_DISCIPLINE]\n",
    "_ = JobGenerator(env, servers, POPULATION, LAMBDA, MU )\n",
    "env.run( until = MAXSIMTIME )"
   ]
  },
  {
   "cell_type": "code",
   "execution_count": 500,
   "metadata": {},
   "outputs": [],
   "source": [
    "if LOGGED:\n",
    "    for _, qlog in qlogs.items():\n",
    "        qlog.close()"
   ]
  },
  {
   "cell_type": "code",
   "execution_count": 501,
   "metadata": {},
   "outputs": [
    {
     "name": "stdout",
     "output_type": "stream",
     "text": [
      "Simulation             : FIFO\n",
      "Arrivals               : 190262\n",
      "Utilization            : 0.48/0.47\n",
      "Mean spending time     : 8.89/0.24\n",
      "Mean waiting time      : 0.11/0.11\n",
      "\n",
      "Simulation             : RR\n",
      "Arrivals               : 190262\n",
      "Utilization            : 0.48/0.47\n",
      "Mean spending time     : 4.21/0.24\n",
      "Mean waiting time      : 0.11/0.11\n",
      "\n"
     ]
    }
   ],
   "source": [
    "for server in servers:\n",
    "    RHO = LAMBDA/MU\n",
    "    print( f'Simulation             : {server.strat}' )\n",
    "    print( f'Arrivals               : {server.jobsDone}'  )\n",
    "    print( f'Utilization            : {1.0-server.idleTime/MAXSIMTIME:.2f}/{RHO:.2f}' )\n",
    "    print( f'Mean spending time     : {server.turnAroundTime/server.jobsDone:.2f}/{(1/MU)/(1-RHO):.2f}'  )\n",
    "    print( f'Mean waiting time      : {server.waitingTime/server.jobsDone:.2f}/{RHO**2/((1-RHO)*LAMBDA):.2f}' )\n",
    "    print()\n",
    "    "
   ]
  },
  {
   "cell_type": "code",
   "execution_count": 502,
   "metadata": {},
   "outputs": [
    {
     "data": {
      "image/png": "[encoded data removed]",
      "text/plain": [
       "<Figure size 640x480 with 6 Axes>"
      ]
     },
     "metadata": {},
     "output_type": "display_data"
    }
   ],
   "source": [
    "if LOGGED and PLOTTED:\n",
    "    import matplotlib.pyplot as plt\n",
    "    colors = {'FIFO': 'red', 'RR': 'blue' }\n",
    "    i = 1\n",
    "    for service in SERVICE_DISCIPLINE:\n",
    "        log = np.loadtxt( f'mm1-{service}-l{LAMBDA}-m{MU}.csv', delimiter = '\\t' )\n",
    "        plt.subplot( 3, 3, i )\n",
    "        plt.xlabel( 'Time' )\n",
    "        plt.ylabel( 'Queue length' )\n",
    "        plt.step( log[:200,0], log[:200,2], where='post', color=colors[service] )\n",
    "        i += 1\n",
    "        plt.title(f\"{service}\")\n",
    "\n",
    "        plt.subplot( 3, 3, i )\n",
    "        plt.xlabel( 'Time' )\n",
    "        plt.xlabel( 'Time' )\n",
    "        plt.ylabel( 'Waiting Time' )\n",
    "        plt.step( log[:200,0], log[:200,3], where='post', color=colors[service] )\n",
    "        i += 1\n",
    "        plt.title(f\"{service}\")\n",
    "\n",
    "        plt.subplot( 3, 3, i )\n",
    "        plt.xlabel( 'Time' )\n",
    "        plt.ylabel( 'Server state' )\n",
    "        plt.yticks([0, 1], ['idle', 'busy'])\n",
    "        #plt.step( log[:200,0], log[:200,1], where='post' )\n",
    "        plt.fill_between( log[:200,0], 0, log[:200,1], step=\"post\", alpha=.4, color=colors[service] )\n",
    "        i += 1\n",
    "        plt.tight_layout()\n",
    "        plt.title(f\"{service}\")\n",
    "    plt.show()  \n"
   ]
  },
  {
   "cell_type": "code",
   "execution_count": null,
   "metadata": {},
   "outputs": [],
   "source": []
  }
 ],
 "metadata": {
  "colab": {
   "collapsed_sections": [],
   "name": "MM1.ipynb",
   "provenance": []
  },
  "kernelspec": {
   "display_name": "Python 3.11.0 64-bit",
   "language": "python",
   "name": "python3"
  },
  "language_info": {
   "codemirror_mode": {
    "name": "ipython",
    "version": 3
   },
   "file_extension": ".py",
   "mimetype": "text/x-python",
   "name": "python",
   "nbconvert_exporter": "python",
   "pygments_lexer": "ipython3",
   "version": "3.11.0"
  },
  "vscode": {
   "interpreter": {
    "hash": "ecdb290ab18db34cf96037275d7dda4c5eaab344b4691dba7acf644d3e3bfffa"
   }
  }
 },
 "nbformat": 4,
 "nbformat_minor": 4
}
